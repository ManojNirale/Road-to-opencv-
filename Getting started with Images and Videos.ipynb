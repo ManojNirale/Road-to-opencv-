{
 "cells": [
  {
   "cell_type": "code",
   "execution_count": 1,
   "metadata": {},
   "outputs": [],
   "source": [
    "import cv2\n",
    "import numpy as np"
   ]
  },
  {
   "cell_type": "code",
   "execution_count": 2,
   "metadata": {},
   "outputs": [],
   "source": [
    "#Loading a color image Gray scale\n",
    "img = cv2.imread('Input/Image/WindowsFlags.jpg',0)"
   ]
  },
  {
   "cell_type": "markdown",
   "metadata": {},
   "source": [
    "### Display an image"
   ]
  },
  {
   "cell_type": "code",
   "execution_count": 3,
   "metadata": {},
   "outputs": [],
   "source": [
    "cv2.imshow('W7Image',img)\n",
    "cv2.waitKey(0)\n",
    "cv2.destroyAllWindows()"
   ]
  },
  {
   "cell_type": "code",
   "execution_count": 4,
   "metadata": {},
   "outputs": [
    {
     "data": {
      "text/plain": [
       "True"
      ]
     },
     "execution_count": 4,
     "metadata": {},
     "output_type": "execute_result"
    }
   ],
   "source": [
    "#Writing an image to file\n",
    "cv2.imwrite('Output/Image/w7gray.png',img)"
   ]
  },
  {
   "cell_type": "code",
   "execution_count": 5,
   "metadata": {},
   "outputs": [],
   "source": [
    "#All together\n",
    "import cv2\n",
    "import numpy as np\n",
    "from PIL import Image\n",
    "\n",
    "img = cv2.imread('Input/Image/WindowsFlags.jpg',0)\n",
    "cv2.imshow('W7Image',img)\n",
    "k=cv2.waitKey(0)\n",
    "if k == 27:# press 'esc' to exit\n",
    "    cv2.destroyAllWindows()\n",
    "elif k == ord('s'): # press 's' to save and exit\n",
    "    cv2.imwrite('Output/Image/w7gray.png',img)\n",
    "    cv2.destroyAllWindows()\n",
    "\n"
   ]
  },
  {
   "cell_type": "markdown",
   "metadata": {},
   "source": [
    "### Videos"
   ]
  },
  {
   "cell_type": "code",
   "execution_count": 6,
   "metadata": {},
   "outputs": [],
   "source": [
    "# capturing a video from built in camera and save the frames\n",
    "cap = cv2.VideoCapture(0)\n",
    "\n",
    "#define the codec and create videowriter obj\n",
    "fourcc = cv2.VideoWriter_fourcc(*'XVID')\n",
    "out = cv2.VideoWriter('Output/Video/output.avi',fourcc, 20.0, (640,480))\n",
    "while(cap.isOpened()):\n",
    "    ret,frame = cap.read()\n",
    "    if ret == True:\n",
    "        gray = cv2.cvtColor(frame,cv2.COLOR_BGR2GRAY)\n",
    "        out.write(frame)\n",
    "        cv2.imshow('frame',frame)\n",
    "        if cv2.waitKey(1) & 0xFF == ord('q'):\n",
    "            break\n",
    "    else:\n",
    "        break\n",
    "#releae the capture\n",
    "cap.release()\n",
    "out.release()\n",
    "cv2.destroyAllWindows()"
   ]
  },
  {
   "cell_type": "markdown",
   "metadata": {},
   "source": [
    "### Playing video from file and convert it into frames"
   ]
  },
  {
   "cell_type": "code",
   "execution_count": 7,
   "metadata": {},
   "outputs": [],
   "source": [
    "import cv2\n",
    "import time,os\n",
    "def video_file(video):\n",
    "    start = time.time()\n",
    "    cap = cv2.VideoCapture(video)\n",
    "    fps = cap.get(cv2.CAP_PROP_FPS) # calculating frames per second\n",
    "    totalFrames = int(cap.get(cv2.CAP_PROP_FRAME_COUNT)) # total frames\n",
    "    print(totalFrames)\n",
    "    videolength = totalFrames/fps\n",
    "    \n",
    "    count = 0\n",
    "    flag  = True\n",
    "    noOfFrames = 4\n",
    "    interval = round(totalFrames/noOfFrames)\n",
    "    while(flag):\n",
    "        i=0\n",
    "        while (i<interval-1):\n",
    "            a,b  = cap.read()\n",
    "            i += 1\n",
    "        flag,frame = cap.read()\n",
    "        #flip the frames\n",
    "        frame=cv2.transpose(frame)\n",
    "        frame=cv2.flip(frame,flipCode=1)\n",
    "\n",
    "        name = 'Output/Video/frames/frame_'+str(count)+'.jpg'\n",
    "        cv2.imwrite(name,frame)\n",
    "        count += 1\n",
    "    print('Time taken'+ str(time.time()-start))\n",
    "    name = 'Output/Video/frames/frame_' +str(count - 1)+'.jpg'\n",
    "    os.remove(name)\n",
    "    cap.release()\n",
    "    \n",
    "     "
   ]
  },
  {
   "cell_type": "code",
   "execution_count": 8,
   "metadata": {},
   "outputs": [
    {
     "name": "stdout",
     "output_type": "stream",
     "text": [
      "60\n",
      "Time taken0.6779580116271973\n"
     ]
    }
   ],
   "source": [
    "video_file('Input//Video/Lcc_car7.mp4')"
   ]
  },
  {
   "cell_type": "code",
   "execution_count": null,
   "metadata": {},
   "outputs": [],
   "source": []
  }
 ],
 "metadata": {
  "kernelspec": {
   "display_name": "Python 3",
   "language": "python",
   "name": "python3"
  },
  "language_info": {
   "codemirror_mode": {
    "name": "ipython",
    "version": 3
   },
   "file_extension": ".py",
   "mimetype": "text/x-python",
   "name": "python",
   "nbconvert_exporter": "python",
   "pygments_lexer": "ipython3",
   "version": "3.7.0"
  }
 },
 "nbformat": 4,
 "nbformat_minor": 2
}
